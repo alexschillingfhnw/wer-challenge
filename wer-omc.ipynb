{
 "cells": [
  {
   "cell_type": "markdown",
   "id": "7c93f8d9",
   "metadata": {},
   "source": [
    "# WER - Open Mini-Challenge"
   ]
  },
  {
   "cell_type": "markdown",
   "id": "1b87df09",
   "metadata": {},
   "source": [
    "## Was ist der Anteil Elektroautos im Verkauf in der Schweiz in 2030?"
   ]
  },
  {
   "cell_type": "code",
   "execution_count": 649,
   "id": "8fcc4345",
   "metadata": {},
   "outputs": [],
   "source": [
    "import matplotlib.pyplot as plt\n",
    "import numpy as np\n",
    "import pandas as pd\n",
    "import seaborn as sns\n",
    "import scipy.stats as stats"
   ]
  },
  {
   "cell_type": "code",
   "execution_count": 650,
   "id": "f25bfb2c",
   "metadata": {},
   "outputs": [],
   "source": [
    "# Ergibt normierte Standardabweichung\n",
    "def calc_cov(mittelwert, sigma):\n",
    "    return sigma / mittelwert"
   ]
  },
  {
   "cell_type": "code",
   "execution_count": 651,
   "id": "b707edd7",
   "metadata": {},
   "outputs": [],
   "source": [
    "def plot_distr(dataframe, x_val):\n",
    "    sns.set_style('white')\n",
    "    sns.set_context(\"paper\", font_scale = 1.5)\n",
    "    sns.displot(data = dataframe, x = x_val, kind = \"hist\", bins = 150, aspect = 3.0)   "
   ]
  },
  {
   "cell_type": "markdown",
   "id": "16751193",
   "metadata": {},
   "source": [
    "### 1. Anteil EV Auto\n",
    "Wir haben die Daten von 2018 - 2021 herausgesucht und daraus ein linearer Trend bis 2030 aufgestellt. Laut Trend wird der Anteil E-Autos in 2030 bei 44.20% liegen. Das Ergebnis wird sich noch durch unsere Zufallsvariablen, die wir weiter unten definiert haben, ändern."
   ]
  },
  {
   "cell_type": "code",
   "execution_count": 652,
   "id": "a76a070e",
   "metadata": {},
   "outputs": [
    {
     "data": {
      "image/png": "[encoded data removed]",
      "text/plain": [
       "<Figure size 432x288 with 1 Axes>"
      ]
     },
     "metadata": {},
     "output_type": "display_data"
    }
   ],
   "source": [
    "df_anteil = pd.read_csv(\"Anteil_E_Autos.csv\")\n",
    "df_anteil.plot(x=\"Jahr\", y=\"Anteil im Verkauf\")\n",
    "plt.show()"
   ]
  },
  {
   "cell_type": "code",
   "execution_count": 653,
   "id": "ee048c67",
   "metadata": {},
   "outputs": [
    {
     "data": {
      "text/html": [
       "<div>\n",
       "<style scoped>\n",
       "    .dataframe tbody tr th:only-of-type {\n",
       "        vertical-align: middle;\n",
       "    }\n",
       "\n",
       "    .dataframe tbody tr th {\n",
       "        vertical-align: top;\n",
       "    }\n",
       "\n",
       "    .dataframe thead th {\n",
       "        text-align: right;\n",
       "    }\n",
       "</style>\n",
       "<table border=\"1\" class=\"dataframe\">\n",
       "  <thead>\n",
       "    <tr style=\"text-align: right;\">\n",
       "      <th></th>\n",
       "      <th>Jahr</th>\n",
       "      <th>Anteil im Verkauf</th>\n",
       "    </tr>\n",
       "  </thead>\n",
       "  <tbody>\n",
       "    <tr>\n",
       "      <th>0</th>\n",
       "      <td>2018</td>\n",
       "      <td>1.70</td>\n",
       "    </tr>\n",
       "    <tr>\n",
       "      <th>1</th>\n",
       "      <td>2019</td>\n",
       "      <td>4.20</td>\n",
       "    </tr>\n",
       "    <tr>\n",
       "      <th>2</th>\n",
       "      <td>2020</td>\n",
       "      <td>8.20</td>\n",
       "    </tr>\n",
       "    <tr>\n",
       "      <th>3</th>\n",
       "      <td>2021</td>\n",
       "      <td>12.30</td>\n",
       "    </tr>\n",
       "    <tr>\n",
       "      <th>4</th>\n",
       "      <td>2022</td>\n",
       "      <td>15.55</td>\n",
       "    </tr>\n",
       "    <tr>\n",
       "      <th>5</th>\n",
       "      <td>2023</td>\n",
       "      <td>19.13</td>\n",
       "    </tr>\n",
       "    <tr>\n",
       "      <th>6</th>\n",
       "      <td>2024</td>\n",
       "      <td>22.71</td>\n",
       "    </tr>\n",
       "    <tr>\n",
       "      <th>7</th>\n",
       "      <td>2025</td>\n",
       "      <td>26.29</td>\n",
       "    </tr>\n",
       "    <tr>\n",
       "      <th>8</th>\n",
       "      <td>2026</td>\n",
       "      <td>29.87</td>\n",
       "    </tr>\n",
       "    <tr>\n",
       "      <th>9</th>\n",
       "      <td>2027</td>\n",
       "      <td>33.45</td>\n",
       "    </tr>\n",
       "    <tr>\n",
       "      <th>10</th>\n",
       "      <td>2028</td>\n",
       "      <td>37.03</td>\n",
       "    </tr>\n",
       "    <tr>\n",
       "      <th>11</th>\n",
       "      <td>2029</td>\n",
       "      <td>40.61</td>\n",
       "    </tr>\n",
       "    <tr>\n",
       "      <th>12</th>\n",
       "      <td>2030</td>\n",
       "      <td>44.19</td>\n",
       "    </tr>\n",
       "  </tbody>\n",
       "</table>\n",
       "</div>"
      ],
      "text/plain": [
       "    Jahr  Anteil im Verkauf\n",
       "0   2018               1.70\n",
       "1   2019               4.20\n",
       "2   2020               8.20\n",
       "3   2021              12.30\n",
       "4   2022              15.55\n",
       "5   2023              19.13\n",
       "6   2024              22.71\n",
       "7   2025              26.29\n",
       "8   2026              29.87\n",
       "9   2027              33.45\n",
       "10  2028              37.03\n",
       "11  2029              40.61\n",
       "12  2030              44.19"
      ]
     },
     "execution_count": 653,
     "metadata": {},
     "output_type": "execute_result"
    }
   ],
   "source": [
    "df_anteil"
   ]
  },
  {
   "cell_type": "markdown",
   "id": "25a7a091",
   "metadata": {},
   "source": [
    "### 2.1 Zufallsvariable: Reichweite\n",
    "Wir haben die 10 Elektroautos mit der grössten Reichweite der letzten 4 Jahre rausgesucht und dazu ein Diagramm aufgestellt. \n",
    "\n",
    "\n"
   ]
  },
  {
   "cell_type": "code",
   "execution_count": 654,
   "id": "43b5ae54",
   "metadata": {
    "scrolled": false
   },
   "outputs": [
    {
     "data": {
      "image/png": "[encoded data removed]",
      "text/plain": [
       "<Figure size 432x288 with 1 Axes>"
      ]
     },
     "metadata": {},
     "output_type": "display_data"
    }
   ],
   "source": [
    "# Top 10 Reichweiten pro Jahr\n",
    "df_reichw = pd.read_csv(\"Reichweiten.csv\")\n",
    "df_reichw.plot(x=\"Rang\", y=[\"2018\", \"2019\", \"2020\", \"2021\"])\n",
    "plt.show()"
   ]
  },
  {
   "cell_type": "code",
   "execution_count": 655,
   "id": "30ad7e59",
   "metadata": {},
   "outputs": [
    {
     "data": {
      "text/html": [
       "<div>\n",
       "<style scoped>\n",
       "    .dataframe tbody tr th:only-of-type {\n",
       "        vertical-align: middle;\n",
       "    }\n",
       "\n",
       "    .dataframe tbody tr th {\n",
       "        vertical-align: top;\n",
       "    }\n",
       "\n",
       "    .dataframe thead th {\n",
       "        text-align: right;\n",
       "    }\n",
       "</style>\n",
       "<table border=\"1\" class=\"dataframe\">\n",
       "  <thead>\n",
       "    <tr style=\"text-align: right;\">\n",
       "      <th></th>\n",
       "      <th>Rang</th>\n",
       "      <th>2021</th>\n",
       "      <th>2020</th>\n",
       "      <th>2019</th>\n",
       "      <th>2018</th>\n",
       "    </tr>\n",
       "  </thead>\n",
       "  <tbody>\n",
       "    <tr>\n",
       "      <th>0</th>\n",
       "      <td>1</td>\n",
       "      <td>785</td>\n",
       "      <td>663</td>\n",
       "      <td>610</td>\n",
       "      <td>610</td>\n",
       "    </tr>\n",
       "    <tr>\n",
       "      <th>1</th>\n",
       "      <td>2</td>\n",
       "      <td>663</td>\n",
       "      <td>580</td>\n",
       "      <td>560</td>\n",
       "      <td>560</td>\n",
       "    </tr>\n",
       "    <tr>\n",
       "      <th>2</th>\n",
       "      <td>3</td>\n",
       "      <td>630</td>\n",
       "      <td>565</td>\n",
       "      <td>505</td>\n",
       "      <td>505</td>\n",
       "    </tr>\n",
       "    <tr>\n",
       "      <th>3</th>\n",
       "      <td>4</td>\n",
       "      <td>610</td>\n",
       "      <td>550</td>\n",
       "      <td>470</td>\n",
       "      <td>415</td>\n",
       "    </tr>\n",
       "    <tr>\n",
       "      <th>4</th>\n",
       "      <td>5</td>\n",
       "      <td>591</td>\n",
       "      <td>480</td>\n",
       "      <td>463</td>\n",
       "      <td>450</td>\n",
       "    </tr>\n",
       "    <tr>\n",
       "      <th>5</th>\n",
       "      <td>6</td>\n",
       "      <td>580</td>\n",
       "      <td>471</td>\n",
       "      <td>455</td>\n",
       "      <td>400</td>\n",
       "    </tr>\n",
       "    <tr>\n",
       "      <th>6</th>\n",
       "      <td>7</td>\n",
       "      <td>560</td>\n",
       "      <td>470</td>\n",
       "      <td>450</td>\n",
       "      <td>380</td>\n",
       "    </tr>\n",
       "    <tr>\n",
       "      <th>7</th>\n",
       "      <td>8</td>\n",
       "      <td>550</td>\n",
       "      <td>455</td>\n",
       "      <td>450</td>\n",
       "      <td>300</td>\n",
       "    </tr>\n",
       "    <tr>\n",
       "      <th>8</th>\n",
       "      <td>9</td>\n",
       "      <td>540</td>\n",
       "      <td>450</td>\n",
       "      <td>423</td>\n",
       "      <td>280</td>\n",
       "    </tr>\n",
       "    <tr>\n",
       "      <th>9</th>\n",
       "      <td>10</td>\n",
       "      <td>536</td>\n",
       "      <td>446</td>\n",
       "      <td>411</td>\n",
       "      <td>270</td>\n",
       "    </tr>\n",
       "  </tbody>\n",
       "</table>\n",
       "</div>"
      ],
      "text/plain": [
       "   Rang  2021  2020  2019  2018\n",
       "0     1   785   663   610   610\n",
       "1     2   663   580   560   560\n",
       "2     3   630   565   505   505\n",
       "3     4   610   550   470   415\n",
       "4     5   591   480   463   450\n",
       "5     6   580   471   455   400\n",
       "6     7   560   470   450   380\n",
       "7     8   550   455   450   300\n",
       "8     9   540   450   423   280\n",
       "9    10   536   446   411   270"
      ]
     },
     "execution_count": 655,
     "metadata": {},
     "output_type": "execute_result"
    }
   ],
   "source": [
    "df_reichw"
   ]
  },
  {
   "cell_type": "markdown",
   "id": "c615f93e",
   "metadata": {},
   "source": [
    "Anhand dieses Diagrammes sieht man, dass die Top 10 E-Autos nach Reichweite immer steigen. Das 10. Auto war in 2018 bei ungefähr 270km und in 2021 bei 536km.\n",
    "\n",
    "Jetzt müssen wir die Werte für die unbekannte Jahren ausrechnen (2022 - 2030):\n",
    "Für jedes Jahr müssen folgende Werte berechnet werde:\n",
    "- Erwartungswert\n",
    "- Sigma\n",
    "- COV (S / E)"
   ]
  },
  {
   "cell_type": "markdown",
   "id": "ddac577a",
   "metadata": {},
   "source": [
    "#### 2.1.1 Daten vorbereiten "
   ]
  },
  {
   "cell_type": "code",
   "execution_count": 656,
   "id": "d150a6c1",
   "metadata": {},
   "outputs": [
    {
     "name": "stdout",
     "output_type": "stream",
     "text": [
      "Mittelwert cov: 0.16024008921631805\n"
     ]
    }
   ],
   "source": [
    "# Vorhandene Erwartungswerte in eienr Liste hinzufügen\n",
    "mit_reichw = []\n",
    "mit_reichw.append(np.mean(df_reichw[\"2018\"]))\n",
    "mit_reichw.append(np.mean(df_reichw[\"2019\"]))\n",
    "mit_reichw.append(np.mean(df_reichw[\"2020\"]))\n",
    "mit_reichw.append(np.mean(df_reichw[\"2021\"]))\n",
    "\n",
    "# Standardabweichungen für jedes Jahr berechnen und in einer Liste hinzufügen\n",
    "stab_reichw = []\n",
    "stab_reichw.append(np.std(df_reichw[\"2018\"]))\n",
    "stab_reichw.append(np.std(df_reichw[\"2019\"]))\n",
    "stab_reichw.append(np.std(df_reichw[\"2020\"]))\n",
    "stab_reichw.append(np.std(df_reichw[\"2021\"]))\n",
    "\n",
    "# Coefficient of variation (Variationskoeffizient)\n",
    "cov_reichw = [calc_cov(mit_reichw[i], stab_reichw[i]) for i in range(4)]\n",
    "\n",
    "# Durchschnitt COV:\n",
    "mit_cov_reichw = np.mean(cov_reichw)\n",
    "print(\"Mittelwert cov: {}\".format(mit_cov_reichw))"
   ]
  },
  {
   "cell_type": "code",
   "execution_count": 657,
   "id": "e24dcb1d",
   "metadata": {},
   "outputs": [
    {
     "name": "stdout",
     "output_type": "stream",
     "text": [
      "Stab durch cov:   110.57124400132251\n",
      "Stab durch numpy: 110.57124400132251\n"
     ]
    }
   ],
   "source": [
    "# Standardabweichung = cov * Erwartungswert\n",
    "# Prüfung:\n",
    "print(\"Stab durch cov:   {}\".format(cov_reichw[0] * mit_reichw[0]))\n",
    "print(\"Stab durch numpy: {}\".format(stab_reichw[0]))"
   ]
  },
  {
   "cell_type": "code",
   "execution_count": 658,
   "id": "99c3ab71",
   "metadata": {},
   "outputs": [],
   "source": [
    "# In Excel ausgerechnete Mittelwerte für unbekannte Jahren 2022 - 2030 (TREND)\n",
    "mit_reichw_neu = [653.0, 712.7, 772.4, 832.1, 891.8, 951.5, 1011.2, 1070.9, 1130.6]\n",
    "\n",
    "# Standardabweichungen für unbekannte Jahren\n",
    "stab_reichw_neu = [i * mit_cov_reichw for i in mit_reichw_neu]"
   ]
  },
  {
   "cell_type": "markdown",
   "id": "b6455df3",
   "metadata": {},
   "source": [
    "#### 2.1.2 Extrapolation"
   ]
  },
  {
   "cell_type": "code",
   "execution_count": 659,
   "id": "667de51d",
   "metadata": {},
   "outputs": [
    {
     "data": {
      "image/png": "[encoded data removed]",
      "text/plain": [
       "<Figure size 432x288 with 1 Axes>"
      ]
     },
     "metadata": {},
     "output_type": "display_data"
    }
   ],
   "source": [
    "jahren_vor = list(range(2018, 2022))\n",
    "jahren_nach = list(range(2022, 2031))\n",
    "\n",
    "plt.plot(jahren_vor, mit_reichw, label = \"Reichweite vor 2021\")\n",
    "plt.plot(jahren_nach, mit_reichw_neu, label = \"Reichweite nach 2021\")\n",
    "plt.xlabel('Jahr')\n",
    "plt.ylabel('Reichweite')\n",
    "plt.title('Entwicklung Reichweite E-Autos')\n",
    "plt.legend(loc=\"upper left\")\n",
    "plt.show()"
   ]
  },
  {
   "cell_type": "markdown",
   "id": "9bd3fc06",
   "metadata": {},
   "source": [
    "#### 2.1.3 Wahrscheinlichkeitsverteilung 2021 \n",
    "Stetig, > 0"
   ]
  },
  {
   "cell_type": "code",
   "execution_count": 660,
   "id": "0c79b877",
   "metadata": {},
   "outputs": [
    {
     "data": {
      "image/png": "[encoded data removed]",
      "text/plain": [
       "<Figure size 1080x360 with 1 Axes>"
      ]
     },
     "metadata": {},
     "output_type": "display_data"
    }
   ],
   "source": [
    "reichw_2021 = mit_reichw[3]\n",
    "stab_reichw_2021 = stab_reichw[3]\n",
    "\n",
    "sim_reichweite = np.random.normal(reichw_2021, stab_reichw_2021, 1_000_000)\n",
    "df_sim_reichweite = pd.DataFrame(sim_reichweite)\n",
    "plot_distr(df_sim_reichweite, sim_reichweite)"
   ]
  },
  {
   "cell_type": "markdown",
   "id": "3235527e",
   "metadata": {},
   "source": [
    "#### 2.1.4 Wahrscheinlichkeitsverteilung 2030"
   ]
  },
  {
   "cell_type": "code",
   "execution_count": 661,
   "id": "df2083c8",
   "metadata": {
    "scrolled": true
   },
   "outputs": [
    {
     "data": {
      "image/png": "[encoded data removed]",
      "text/plain": [
       "<Figure size 1080x360 with 1 Axes>"
      ]
     },
     "metadata": {},
     "output_type": "display_data"
    }
   ],
   "source": [
    "reichw_2030 = mit_reichw_neu[-1]\n",
    "stab_reichw_2030 = stab_reichw_neu[-1]\n",
    "\n",
    "sim_reichweite = np.random.normal(reichw_2030, stab_reichw_2030, 1_000_000)\n",
    "df_sim_reichweite = pd.DataFrame(sim_reichweite)\n",
    "plot_distr(df_sim_reichweite, sim_reichweite)"
   ]
  },
  {
   "cell_type": "markdown",
   "id": "1fd8069d",
   "metadata": {},
   "source": [
    "#### (2.1.5 Wahrscheinlichkeitsverteilung 2050)"
   ]
  },
  {
   "cell_type": "code",
   "execution_count": 662,
   "id": "0ae1bdc0",
   "metadata": {},
   "outputs": [
    {
     "data": {
      "image/png": "[encoded data removed]",
      "text/plain": [
       "<Figure size 1080x360 with 1 Axes>"
      ]
     },
     "metadata": {},
     "output_type": "display_data"
    }
   ],
   "source": [
    "new_reichw = [\n",
    "1190.3,\n",
    "1250,\n",
    "1309.7,\n",
    "1369.4,\n",
    "1429.1,\n",
    "1488.8,\n",
    "1548.5,\n",
    "1608.2,\n",
    "1667.9,\n",
    "1727.6,\n",
    "1787.3,\n",
    "1847,\n",
    "1906.7,\n",
    "1966.4,\n",
    "2026.1,\n",
    "2085.8,\n",
    "2145.5,\n",
    "2205.2,\n",
    "2264.9,\n",
    "2324.6\n",
    "]\n",
    "\n",
    "new_std = [i * mit_cov for i in new_reichw]\n",
    "\n",
    "reichw_2050 = new_reichw[-1]\n",
    "stab_2050 = new_std[-1]\n",
    "\n",
    "sim_reichweite = np.random.normal(reichw_2050, stab_2050, 1_000_000)\n",
    "df_sim_reichweite = pd.DataFrame(sim_reichweite)\n",
    "plot_distr(df_sim_reichweite, sim_reichweite)"
   ]
  },
  {
   "cell_type": "markdown",
   "id": "a6f67380",
   "metadata": {},
   "source": [
    "### 2.2 Zufallsvariable: Antriebskosten"
   ]
  },
  {
   "cell_type": "markdown",
   "id": "e8978b58",
   "metadata": {},
   "source": [
    "Die Antriebskosten haben ein geopolitischer Einfluss und dadurch entsteht eine Unsicherheit.\n",
    "\n",
    "Wir gehen davon aus, dass die E-Autos zuhause geladen werden. Dieser Preis liegt heutzutage bei 0.24.- pro KWH"
   ]
  },
  {
   "cell_type": "code",
   "execution_count": 663,
   "id": "752a210c",
   "metadata": {
    "scrolled": true
   },
   "outputs": [
    {
     "data": {
      "image/png": "[encoded data removed]",
      "text/plain": [
       "<Figure size 432x288 with 1 Axes>"
      ]
     },
     "metadata": {},
     "output_type": "display_data"
    }
   ],
   "source": [
    "df_antriebkosten = pd.read_csv(\"Antriebkosten.csv\")\n",
    "df_antriebkosten.plot(x=\"Jahr\", y=[\"Bleifrei(95)\", \"Bleifrei(98)\", \"Diesel\", \"KWH\"])\n",
    "plt.show()"
   ]
  },
  {
   "cell_type": "code",
   "execution_count": 664,
   "id": "e729f709",
   "metadata": {
    "scrolled": true
   },
   "outputs": [
    {
     "data": {
      "text/html": [
       "<div>\n",
       "<style scoped>\n",
       "    .dataframe tbody tr th:only-of-type {\n",
       "        vertical-align: middle;\n",
       "    }\n",
       "\n",
       "    .dataframe tbody tr th {\n",
       "        vertical-align: top;\n",
       "    }\n",
       "\n",
       "    .dataframe thead th {\n",
       "        text-align: right;\n",
       "    }\n",
       "</style>\n",
       "<table border=\"1\" class=\"dataframe\">\n",
       "  <thead>\n",
       "    <tr style=\"text-align: right;\">\n",
       "      <th></th>\n",
       "      <th>Jahr</th>\n",
       "      <th>Bleifrei(95)</th>\n",
       "      <th>Bleifrei(98)</th>\n",
       "      <th>Diesel</th>\n",
       "      <th>KWH</th>\n",
       "    </tr>\n",
       "  </thead>\n",
       "  <tbody>\n",
       "    <tr>\n",
       "      <th>0</th>\n",
       "      <td>2010</td>\n",
       "      <td>1.640</td>\n",
       "      <td>1.69</td>\n",
       "      <td>1.72</td>\n",
       "      <td>0.2400</td>\n",
       "    </tr>\n",
       "    <tr>\n",
       "      <th>1</th>\n",
       "      <td>2011</td>\n",
       "      <td>1.730</td>\n",
       "      <td>1.78</td>\n",
       "      <td>1.86</td>\n",
       "      <td>0.2416</td>\n",
       "    </tr>\n",
       "    <tr>\n",
       "      <th>2</th>\n",
       "      <td>2012</td>\n",
       "      <td>1.810</td>\n",
       "      <td>1.86</td>\n",
       "      <td>1.93</td>\n",
       "      <td>0.2318</td>\n",
       "    </tr>\n",
       "    <tr>\n",
       "      <th>3</th>\n",
       "      <td>2013</td>\n",
       "      <td>1.770</td>\n",
       "      <td>1.83</td>\n",
       "      <td>1.89</td>\n",
       "      <td>0.2295</td>\n",
       "    </tr>\n",
       "    <tr>\n",
       "      <th>4</th>\n",
       "      <td>2014</td>\n",
       "      <td>1.720</td>\n",
       "      <td>1.78</td>\n",
       "      <td>1.82</td>\n",
       "      <td>0.2312</td>\n",
       "    </tr>\n",
       "    <tr>\n",
       "      <th>5</th>\n",
       "      <td>2015</td>\n",
       "      <td>1.490</td>\n",
       "      <td>1.56</td>\n",
       "      <td>1.55</td>\n",
       "      <td>0.2370</td>\n",
       "    </tr>\n",
       "    <tr>\n",
       "      <th>6</th>\n",
       "      <td>2016</td>\n",
       "      <td>1.410</td>\n",
       "      <td>1.48</td>\n",
       "      <td>1.45</td>\n",
       "      <td>0.2379</td>\n",
       "    </tr>\n",
       "    <tr>\n",
       "      <th>7</th>\n",
       "      <td>2017</td>\n",
       "      <td>1.510</td>\n",
       "      <td>1.59</td>\n",
       "      <td>1.58</td>\n",
       "      <td>0.2378</td>\n",
       "    </tr>\n",
       "    <tr>\n",
       "      <th>8</th>\n",
       "      <td>2018</td>\n",
       "      <td>1.630</td>\n",
       "      <td>1.72</td>\n",
       "      <td>1.74</td>\n",
       "      <td>0.2430</td>\n",
       "    </tr>\n",
       "    <tr>\n",
       "      <th>9</th>\n",
       "      <td>2019</td>\n",
       "      <td>1.600</td>\n",
       "      <td>1.69</td>\n",
       "      <td>1.74</td>\n",
       "      <td>0.2443</td>\n",
       "    </tr>\n",
       "    <tr>\n",
       "      <th>10</th>\n",
       "      <td>2020</td>\n",
       "      <td>1.430</td>\n",
       "      <td>1.53</td>\n",
       "      <td>1.54</td>\n",
       "      <td>0.2438</td>\n",
       "    </tr>\n",
       "    <tr>\n",
       "      <th>11</th>\n",
       "      <td>2021</td>\n",
       "      <td>1.735</td>\n",
       "      <td>1.80</td>\n",
       "      <td>1.62</td>\n",
       "      <td>0.2500</td>\n",
       "    </tr>\n",
       "  </tbody>\n",
       "</table>\n",
       "</div>"
      ],
      "text/plain": [
       "    Jahr  Bleifrei(95)  Bleifrei(98)  Diesel     KWH\n",
       "0   2010         1.640          1.69    1.72  0.2400\n",
       "1   2011         1.730          1.78    1.86  0.2416\n",
       "2   2012         1.810          1.86    1.93  0.2318\n",
       "3   2013         1.770          1.83    1.89  0.2295\n",
       "4   2014         1.720          1.78    1.82  0.2312\n",
       "5   2015         1.490          1.56    1.55  0.2370\n",
       "6   2016         1.410          1.48    1.45  0.2379\n",
       "7   2017         1.510          1.59    1.58  0.2378\n",
       "8   2018         1.630          1.72    1.74  0.2430\n",
       "9   2019         1.600          1.69    1.74  0.2443\n",
       "10  2020         1.430          1.53    1.54  0.2438\n",
       "11  2021         1.735          1.80    1.62  0.2500"
      ]
     },
     "execution_count": 664,
     "metadata": {},
     "output_type": "execute_result"
    }
   ],
   "source": [
    "df_antriebkosten"
   ]
  },
  {
   "cell_type": "markdown",
   "id": "eda549ad",
   "metadata": {},
   "source": [
    "**Trend - Antriebkosten (2010 - 2030)**"
   ]
  },
  {
   "cell_type": "code",
   "execution_count": 665,
   "id": "7045dbe2",
   "metadata": {
    "scrolled": true
   },
   "outputs": [
    {
     "data": {
      "image/png": "[encoded data removed]",
      "text/plain": [
       "<Figure size 432x288 with 1 Axes>"
      ]
     },
     "metadata": {},
     "output_type": "display_data"
    }
   ],
   "source": [
    "df_antriebkosten_trend = pd.read_csv(\"Antriebkosten_Trend.csv\")\n",
    "df_antriebkosten_trend.plot(x=\"Jahr\", y=[\"Bleifrei(95)\", \"Bleifrei(98)\", \"Diesel\", \"KWH\"])\n",
    "plt.show()"
   ]
  },
  {
   "cell_type": "code",
   "execution_count": 666,
   "id": "06fa663d",
   "metadata": {},
   "outputs": [
    {
     "data": {
      "text/html": [
       "<div>\n",
       "<style scoped>\n",
       "    .dataframe tbody tr th:only-of-type {\n",
       "        vertical-align: middle;\n",
       "    }\n",
       "\n",
       "    .dataframe tbody tr th {\n",
       "        vertical-align: top;\n",
       "    }\n",
       "\n",
       "    .dataframe thead th {\n",
       "        text-align: right;\n",
       "    }\n",
       "</style>\n",
       "<table border=\"1\" class=\"dataframe\">\n",
       "  <thead>\n",
       "    <tr style=\"text-align: right;\">\n",
       "      <th></th>\n",
       "      <th>Jahr</th>\n",
       "      <th>Bleifrei(95)</th>\n",
       "      <th>Bleifrei(98)</th>\n",
       "      <th>Diesel</th>\n",
       "      <th>KWH</th>\n",
       "    </tr>\n",
       "  </thead>\n",
       "  <tbody>\n",
       "    <tr>\n",
       "      <th>0</th>\n",
       "      <td>2010</td>\n",
       "      <td>1.640</td>\n",
       "      <td>1.69</td>\n",
       "      <td>1.72</td>\n",
       "      <td>0.2400</td>\n",
       "    </tr>\n",
       "    <tr>\n",
       "      <th>1</th>\n",
       "      <td>2011</td>\n",
       "      <td>1.730</td>\n",
       "      <td>1.78</td>\n",
       "      <td>1.86</td>\n",
       "      <td>0.2416</td>\n",
       "    </tr>\n",
       "    <tr>\n",
       "      <th>2</th>\n",
       "      <td>2012</td>\n",
       "      <td>1.810</td>\n",
       "      <td>1.86</td>\n",
       "      <td>1.93</td>\n",
       "      <td>0.2318</td>\n",
       "    </tr>\n",
       "    <tr>\n",
       "      <th>3</th>\n",
       "      <td>2013</td>\n",
       "      <td>1.770</td>\n",
       "      <td>1.83</td>\n",
       "      <td>1.89</td>\n",
       "      <td>0.2295</td>\n",
       "    </tr>\n",
       "    <tr>\n",
       "      <th>4</th>\n",
       "      <td>2014</td>\n",
       "      <td>1.720</td>\n",
       "      <td>1.78</td>\n",
       "      <td>1.82</td>\n",
       "      <td>0.2312</td>\n",
       "    </tr>\n",
       "    <tr>\n",
       "      <th>5</th>\n",
       "      <td>2015</td>\n",
       "      <td>1.490</td>\n",
       "      <td>1.56</td>\n",
       "      <td>1.55</td>\n",
       "      <td>0.2370</td>\n",
       "    </tr>\n",
       "    <tr>\n",
       "      <th>6</th>\n",
       "      <td>2016</td>\n",
       "      <td>1.410</td>\n",
       "      <td>1.48</td>\n",
       "      <td>1.45</td>\n",
       "      <td>0.2379</td>\n",
       "    </tr>\n",
       "    <tr>\n",
       "      <th>7</th>\n",
       "      <td>2017</td>\n",
       "      <td>1.510</td>\n",
       "      <td>1.59</td>\n",
       "      <td>1.58</td>\n",
       "      <td>0.2378</td>\n",
       "    </tr>\n",
       "    <tr>\n",
       "      <th>8</th>\n",
       "      <td>2018</td>\n",
       "      <td>1.630</td>\n",
       "      <td>1.72</td>\n",
       "      <td>1.74</td>\n",
       "      <td>0.2430</td>\n",
       "    </tr>\n",
       "    <tr>\n",
       "      <th>9</th>\n",
       "      <td>2019</td>\n",
       "      <td>1.600</td>\n",
       "      <td>1.69</td>\n",
       "      <td>1.74</td>\n",
       "      <td>0.2443</td>\n",
       "    </tr>\n",
       "    <tr>\n",
       "      <th>10</th>\n",
       "      <td>2020</td>\n",
       "      <td>1.430</td>\n",
       "      <td>1.53</td>\n",
       "      <td>1.54</td>\n",
       "      <td>0.2438</td>\n",
       "    </tr>\n",
       "    <tr>\n",
       "      <th>11</th>\n",
       "      <td>2021</td>\n",
       "      <td>1.735</td>\n",
       "      <td>1.80</td>\n",
       "      <td>1.62</td>\n",
       "      <td>0.2500</td>\n",
       "    </tr>\n",
       "    <tr>\n",
       "      <th>12</th>\n",
       "      <td>2022</td>\n",
       "      <td>1.520</td>\n",
       "      <td>1.61</td>\n",
       "      <td>1.55</td>\n",
       "      <td>0.2459</td>\n",
       "    </tr>\n",
       "    <tr>\n",
       "      <th>13</th>\n",
       "      <td>2023</td>\n",
       "      <td>1.500</td>\n",
       "      <td>1.60</td>\n",
       "      <td>1.52</td>\n",
       "      <td>0.2470</td>\n",
       "    </tr>\n",
       "    <tr>\n",
       "      <th>14</th>\n",
       "      <td>2024</td>\n",
       "      <td>1.490</td>\n",
       "      <td>1.59</td>\n",
       "      <td>1.50</td>\n",
       "      <td>0.2481</td>\n",
       "    </tr>\n",
       "    <tr>\n",
       "      <th>15</th>\n",
       "      <td>2025</td>\n",
       "      <td>1.470</td>\n",
       "      <td>1.58</td>\n",
       "      <td>1.47</td>\n",
       "      <td>0.2491</td>\n",
       "    </tr>\n",
       "    <tr>\n",
       "      <th>16</th>\n",
       "      <td>2026</td>\n",
       "      <td>1.460</td>\n",
       "      <td>1.57</td>\n",
       "      <td>1.45</td>\n",
       "      <td>0.2502</td>\n",
       "    </tr>\n",
       "    <tr>\n",
       "      <th>17</th>\n",
       "      <td>2027</td>\n",
       "      <td>1.440</td>\n",
       "      <td>1.55</td>\n",
       "      <td>1.43</td>\n",
       "      <td>0.2513</td>\n",
       "    </tr>\n",
       "    <tr>\n",
       "      <th>18</th>\n",
       "      <td>2028</td>\n",
       "      <td>1.420</td>\n",
       "      <td>1.54</td>\n",
       "      <td>1.40</td>\n",
       "      <td>0.2523</td>\n",
       "    </tr>\n",
       "    <tr>\n",
       "      <th>19</th>\n",
       "      <td>2029</td>\n",
       "      <td>1.410</td>\n",
       "      <td>1.53</td>\n",
       "      <td>1.38</td>\n",
       "      <td>0.2534</td>\n",
       "    </tr>\n",
       "    <tr>\n",
       "      <th>20</th>\n",
       "      <td>2030</td>\n",
       "      <td>1.390</td>\n",
       "      <td>1.52</td>\n",
       "      <td>1.35</td>\n",
       "      <td>0.2545</td>\n",
       "    </tr>\n",
       "  </tbody>\n",
       "</table>\n",
       "</div>"
      ],
      "text/plain": [
       "    Jahr  Bleifrei(95)  Bleifrei(98)  Diesel     KWH\n",
       "0   2010         1.640          1.69    1.72  0.2400\n",
       "1   2011         1.730          1.78    1.86  0.2416\n",
       "2   2012         1.810          1.86    1.93  0.2318\n",
       "3   2013         1.770          1.83    1.89  0.2295\n",
       "4   2014         1.720          1.78    1.82  0.2312\n",
       "5   2015         1.490          1.56    1.55  0.2370\n",
       "6   2016         1.410          1.48    1.45  0.2379\n",
       "7   2017         1.510          1.59    1.58  0.2378\n",
       "8   2018         1.630          1.72    1.74  0.2430\n",
       "9   2019         1.600          1.69    1.74  0.2443\n",
       "10  2020         1.430          1.53    1.54  0.2438\n",
       "11  2021         1.735          1.80    1.62  0.2500\n",
       "12  2022         1.520          1.61    1.55  0.2459\n",
       "13  2023         1.500          1.60    1.52  0.2470\n",
       "14  2024         1.490          1.59    1.50  0.2481\n",
       "15  2025         1.470          1.58    1.47  0.2491\n",
       "16  2026         1.460          1.57    1.45  0.2502\n",
       "17  2027         1.440          1.55    1.43  0.2513\n",
       "18  2028         1.420          1.54    1.40  0.2523\n",
       "19  2029         1.410          1.53    1.38  0.2534\n",
       "20  2030         1.390          1.52    1.35  0.2545"
      ]
     },
     "execution_count": 666,
     "metadata": {},
     "output_type": "execute_result"
    }
   ],
   "source": [
    "df_antriebkosten_trend"
   ]
  },
  {
   "cell_type": "markdown",
   "id": "0c35b4e5",
   "metadata": {},
   "source": [
    "#### 2.2.1 Daten vorbereiten\n",
    "Für Benzin bestimmen wir die Variationskoeffizient bei 0.2. Dann unterteilen wir die Daten in 2 Listen (1. vor 2021, 2. nach 2021)"
   ]
  },
  {
   "cell_type": "code",
   "execution_count": 667,
   "id": "b1f25302",
   "metadata": {},
   "outputs": [],
   "source": [
    "mit_cov_antrieb = 0.2"
   ]
  },
  {
   "cell_type": "code",
   "execution_count": 668,
   "id": "5f36aeb7",
   "metadata": {},
   "outputs": [],
   "source": [
    "mit_bleifrei = []\n",
    "mit_bleifrei_neu = []\n",
    "\n",
    "for i in range(len(df_antriebkosten_trend[\"Bleifrei(95)\"])):\n",
    "    # Werte von 2010 - 2021 zu einer Liste hinzufügen\n",
    "    if i <= 11:\n",
    "        mit_bleifrei.append(df_antriebkosten_trend[\"Bleifrei(95)\"][i])\n",
    "    # Werte von 2022 - 2030 zu einer Liste hinzufügen\n",
    "    else:\n",
    "        mit_bleifrei_neu.append(df_antriebkosten_trend[\"Bleifrei(95)\"][i])"
   ]
  },
  {
   "cell_type": "markdown",
   "id": "90a49a3c",
   "metadata": {},
   "source": [
    "#### 2.2.2 Extrapolation\n",
    "Für die Extrapolation reicht es wenn wir nur 1 Benzinart nehmen: Bleifrei 95 "
   ]
  },
  {
   "cell_type": "code",
   "execution_count": 669,
   "id": "a1be93be",
   "metadata": {},
   "outputs": [
    {
     "data": {
      "image/png": "[encoded data removed]",
      "text/plain": [
       "<Figure size 432x288 with 1 Axes>"
      ]
     },
     "metadata": {},
     "output_type": "display_data"
    }
   ],
   "source": [
    "jahren_vor = list(range(2010, 2022))\n",
    "jahren_nach = list(range(2022, 2031))\n",
    "\n",
    "plt.plot(jahren_vor, mit_bleifrei, label = \"Preis vor 2021\")\n",
    "plt.plot(jahren_nach, mit_bleifrei_neu, label = \"Preis nach 2021\")\n",
    "plt.xlabel(\"Jahr\")\n",
    "plt.ylabel(\"Preis pro Liter\")\n",
    "plt.title(\"Entwicklung Preis Bleifrei 95\")\n",
    "plt.legend(loc=\"upper right\")\n",
    "plt.ylim(1, 2)\n",
    "plt.show()"
   ]
  },
  {
   "cell_type": "markdown",
   "id": "27248d56",
   "metadata": {},
   "source": [
    "#### 2.2.3 Wahrscheinlichkeitsverteilung 2021"
   ]
  },
  {
   "cell_type": "code",
   "execution_count": 670,
   "id": "2d8a8fb7",
   "metadata": {},
   "outputs": [
    {
     "data": {
      "image/png": "[encoded data removed]",
      "text/plain": [
       "<Figure size 1080x360 with 1 Axes>"
      ]
     },
     "metadata": {},
     "output_type": "display_data"
    }
   ],
   "source": [
    "mu_bleifrei_2021 = mit_bleifrei[11]\n",
    "stab_bleifrei_2021 = mu_bleifrei_2021 * mit_cov_antrieb\n",
    "\n",
    "sim_bleifrei_2021 = np.random.normal(mu_bleifrei_2021, stab_bleifrei_2021, 1_000_000)\n",
    "df_sim_bleifrei_2021 = pd.DataFrame(sim_bleifrei_2021)\n",
    "plot_distr(df_sim_bleifrei_2021, sim_bleifrei_2021)"
   ]
  },
  {
   "cell_type": "markdown",
   "id": "16e8ae3b",
   "metadata": {},
   "source": [
    "#### 2.2.4 Wahrscheinlichkeitsverteilung 2030"
   ]
  },
  {
   "cell_type": "code",
   "execution_count": 671,
   "id": "274cb1fd",
   "metadata": {},
   "outputs": [
    {
     "data": {
      "image/png": "[encoded data removed]",
      "text/plain": [
       "<Figure size 1080x360 with 1 Axes>"
      ]
     },
     "metadata": {},
     "output_type": "display_data"
    }
   ],
   "source": [
    "mu_bleifrei_2030 = mit_bleifrei_neu[-1]\n",
    "stab_bleifrei_2030 = mu_bleifrei_2030 * mit_cov_antrieb\n",
    "\n",
    "sim_bleifrei_2030 = np.random.normal(mu_bleifrei_2030, stab_bleifrei_2030, 1_000_000)\n",
    "df_sim_bleifrei_2030 = pd.DataFrame(sim_bleifrei_2030)\n",
    "plot_distr(df_sim_bleifrei_2030, sim_bleifrei_2030)"
   ]
  },
  {
   "cell_type": "markdown",
   "id": "8ff0c682",
   "metadata": {},
   "source": [
    "### 2.3 Zufallsvariable: Batteriekosten"
   ]
  },
  {
   "cell_type": "markdown",
   "id": "28ef8b37",
   "metadata": {},
   "source": [
    "Vor zehn Jahren galt ein Elektroauto noch als unbezahlbar. Damals kostete die Kilowattstunde (kWh) einer Lithium-Ionen-Batterie 1100 Dollar. Seitdem sind die Preise in einem rasanten Tempo gefallen: um mehr als 89 Prozent auf 137 Dollar pro kWh in 2020.\n",
    "\n",
    "\n",
    "Noch dazu sammelten wir folgende Daten der Swiss E-Mobility:\n",
    "- Akkupreis seit Anfang Jahrzehnt um 87% gesunken\n",
    "- wird noch bis 2025 halbieren\n",
    "\n",
    "Somit konnten wir schnell feststellen, dass die Entwicklung der Batteriekosten exponential abnehmen.--> Exponentiale Verteilung aufstellen.\n",
    "\n",
    "Stetig, > 0\n",
    "\n",
    "\n",
    "y = a (1-b)^x"
   ]
  },
  {
   "cell_type": "code",
   "execution_count": 672,
   "id": "b69fafb2",
   "metadata": {},
   "outputs": [],
   "source": [
    "jahr_2010 = 1100\n",
    "jahr_2020 = 137\n",
    "jahr_2025 = jahr_2020 / 2\n",
    "\n",
    "x = np.array([2010, 2020, 2025])\n",
    "y = np.array([jahr_2010, jahr_2020, jahr_2025])\n",
    "\n"
   ]
  },
  {
   "cell_type": "markdown",
   "id": "c7d7e402",
   "metadata": {},
   "source": [
    "### 2.4 Zufallsvariable: Preis EV relativ zu Benzin / Diesel\n",
    "Für diesen vergleich haben wir 8 identische Autos genommen, die es als EV und Benzin / Diesel gibt."
   ]
  },
  {
   "cell_type": "code",
   "execution_count": 673,
   "id": "69b91b9d",
   "metadata": {
    "scrolled": true
   },
   "outputs": [
    {
     "data": {
      "image/png": "[encoded data removed]",
      "text/plain": [
       "<Figure size 432x288 with 1 Axes>"
      ]
     },
     "metadata": {},
     "output_type": "display_data"
    }
   ],
   "source": [
    "# Top 10 Reichweiten pro Jahr\n",
    "df_preise = pd.read_csv(\"Autopreise_e_vs_b.csv\")\n",
    "df_preise.plot(x=\"Auto\", y=[\"EV Preis\", \"BD Preis\"])\n",
    "plt.show()"
   ]
  },
  {
   "cell_type": "code",
   "execution_count": 681,
   "id": "de4db0b2",
   "metadata": {},
   "outputs": [
    {
     "name": "stdout",
     "output_type": "stream",
     "text": [
      "Mittelwert EV: 44570.0\n",
      "Mittelwert BD: 30231.25\n"
     ]
    },
    {
     "data": {
      "text/html": [
       "<div>\n",
       "<style scoped>\n",
       "    .dataframe tbody tr th:only-of-type {\n",
       "        vertical-align: middle;\n",
       "    }\n",
       "\n",
       "    .dataframe tbody tr th {\n",
       "        vertical-align: top;\n",
       "    }\n",
       "\n",
       "    .dataframe thead th {\n",
       "        text-align: right;\n",
       "    }\n",
       "</style>\n",
       "<table border=\"1\" class=\"dataframe\">\n",
       "  <thead>\n",
       "    <tr style=\"text-align: right;\">\n",
       "      <th></th>\n",
       "      <th>Auto</th>\n",
       "      <th>EV Preis</th>\n",
       "      <th>BD Preis</th>\n",
       "    </tr>\n",
       "  </thead>\n",
       "  <tbody>\n",
       "    <tr>\n",
       "      <th>0</th>\n",
       "      <td>BMW i4</td>\n",
       "      <td>69900</td>\n",
       "      <td>56400</td>\n",
       "    </tr>\n",
       "    <tr>\n",
       "      <th>1</th>\n",
       "      <td>Mini Cooper</td>\n",
       "      <td>37900</td>\n",
       "      <td>26000</td>\n",
       "    </tr>\n",
       "    <tr>\n",
       "      <th>2</th>\n",
       "      <td>Opel Corsa</td>\n",
       "      <td>35000</td>\n",
       "      <td>19000</td>\n",
       "    </tr>\n",
       "    <tr>\n",
       "      <th>3</th>\n",
       "      <td>Opel Grandland</td>\n",
       "      <td>44260</td>\n",
       "      <td>32450</td>\n",
       "    </tr>\n",
       "    <tr>\n",
       "      <th>4</th>\n",
       "      <td>Opel Mokka</td>\n",
       "      <td>36200</td>\n",
       "      <td>26200</td>\n",
       "    </tr>\n",
       "    <tr>\n",
       "      <th>5</th>\n",
       "      <td>Opel Combo Life</td>\n",
       "      <td>40800</td>\n",
       "      <td>26460</td>\n",
       "    </tr>\n",
       "    <tr>\n",
       "      <th>6</th>\n",
       "      <td>Peugeot 208</td>\n",
       "      <td>33000</td>\n",
       "      <td>18500</td>\n",
       "    </tr>\n",
       "    <tr>\n",
       "      <th>7</th>\n",
       "      <td>Volvo xc40</td>\n",
       "      <td>59500</td>\n",
       "      <td>36840</td>\n",
       "    </tr>\n",
       "  </tbody>\n",
       "</table>\n",
       "</div>"
      ],
      "text/plain": [
       "              Auto  EV Preis  BD Preis\n",
       "0           BMW i4     69900     56400\n",
       "1      Mini Cooper     37900     26000\n",
       "2       Opel Corsa     35000     19000\n",
       "3   Opel Grandland     44260     32450\n",
       "4       Opel Mokka     36200     26200\n",
       "5  Opel Combo Life     40800     26460\n",
       "6      Peugeot 208     33000     18500\n",
       "7       Volvo xc40     59500     36840"
      ]
     },
     "execution_count": 681,
     "metadata": {},
     "output_type": "execute_result"
    }
   ],
   "source": [
    "mit_ev = np.mean(df_preise[\"EV Preis\"])\n",
    "mit_bd = np.mean(df_preise[\"BD Preis\"])\n",
    "\n",
    "print(\"Mittelwert EV: {}\".format(mit_ev))\n",
    "print(\"Mittelwert BD: {}\".format(mit_bd))\n",
    "\n",
    "df_preise"
   ]
  },
  {
   "cell_type": "markdown",
   "id": "231c914c",
   "metadata": {},
   "source": [
    "Anhand der Daten sieht man, dass der Preisunterschied zwischen Elektro - und Verbrennerautos etwa konstant bleibt und war auch so in der Vergangenheit. E-Autos waren im Schnitt immer um 10'000 teurer. Somit werden wir für die Preisentwicklung konstant rechnen."
   ]
  },
  {
   "cell_type": "markdown",
   "id": "4b94be8d",
   "metadata": {},
   "source": [
    "### 2.5 Zufallsvariable: Subventionen\n",
    "Die Subventionen sind kantonsbasiert und nicht alle bieten Subventionen an. Beim Kauf eines Elektroautos werden die Subventionen bis zum Jahr 2030 bestimmt zunhemen. Die jährliche Steigung definierten wir bei 2%. \n",
    "\n",
    "COV: 0.1"
   ]
  },
  {
   "cell_type": "code",
   "execution_count": 675,
   "id": "7db19960",
   "metadata": {},
   "outputs": [
    {
     "data": {
      "text/html": [
       "<div>\n",
       "<style scoped>\n",
       "    .dataframe tbody tr th:only-of-type {\n",
       "        vertical-align: middle;\n",
       "    }\n",
       "\n",
       "    .dataframe tbody tr th {\n",
       "        vertical-align: top;\n",
       "    }\n",
       "\n",
       "    .dataframe thead th {\n",
       "        text-align: right;\n",
       "    }\n",
       "</style>\n",
       "<table border=\"1\" class=\"dataframe\">\n",
       "  <thead>\n",
       "    <tr style=\"text-align: right;\">\n",
       "      <th></th>\n",
       "      <th>Kanton</th>\n",
       "      <th>2021</th>\n",
       "      <th>2022</th>\n",
       "      <th>2023</th>\n",
       "      <th>2024</th>\n",
       "      <th>2025</th>\n",
       "      <th>2026</th>\n",
       "      <th>2027</th>\n",
       "      <th>2028</th>\n",
       "      <th>2029</th>\n",
       "      <th>2030</th>\n",
       "    </tr>\n",
       "  </thead>\n",
       "  <tbody>\n",
       "    <tr>\n",
       "      <th>0</th>\n",
       "      <td>Basel-Stadt</td>\n",
       "      <td>5000</td>\n",
       "      <td>5100</td>\n",
       "      <td>5202</td>\n",
       "      <td>5306</td>\n",
       "      <td>5412</td>\n",
       "      <td>5520</td>\n",
       "      <td>5631</td>\n",
       "      <td>5743</td>\n",
       "      <td>5858</td>\n",
       "      <td>5975</td>\n",
       "    </tr>\n",
       "    <tr>\n",
       "      <th>1</th>\n",
       "      <td>Wallis</td>\n",
       "      <td>2000</td>\n",
       "      <td>2040</td>\n",
       "      <td>2081</td>\n",
       "      <td>2122</td>\n",
       "      <td>2165</td>\n",
       "      <td>2208</td>\n",
       "      <td>2252</td>\n",
       "      <td>2297</td>\n",
       "      <td>2343</td>\n",
       "      <td>2390</td>\n",
       "    </tr>\n",
       "    <tr>\n",
       "      <th>2</th>\n",
       "      <td>Tessin</td>\n",
       "      <td>2000</td>\n",
       "      <td>2040</td>\n",
       "      <td>2081</td>\n",
       "      <td>2122</td>\n",
       "      <td>2165</td>\n",
       "      <td>2208</td>\n",
       "      <td>2252</td>\n",
       "      <td>2297</td>\n",
       "      <td>2343</td>\n",
       "      <td>2390</td>\n",
       "    </tr>\n",
       "    <tr>\n",
       "      <th>3</th>\n",
       "      <td>Genf</td>\n",
       "      <td>2000</td>\n",
       "      <td>2040</td>\n",
       "      <td>2081</td>\n",
       "      <td>2122</td>\n",
       "      <td>2165</td>\n",
       "      <td>2208</td>\n",
       "      <td>2252</td>\n",
       "      <td>2297</td>\n",
       "      <td>2343</td>\n",
       "      <td>2390</td>\n",
       "    </tr>\n",
       "    <tr>\n",
       "      <th>4</th>\n",
       "      <td>Thurgau</td>\n",
       "      <td>3000</td>\n",
       "      <td>3060</td>\n",
       "      <td>3121</td>\n",
       "      <td>3184</td>\n",
       "      <td>3247</td>\n",
       "      <td>3312</td>\n",
       "      <td>3378</td>\n",
       "      <td>3446</td>\n",
       "      <td>3515</td>\n",
       "      <td>3585</td>\n",
       "    </tr>\n",
       "    <tr>\n",
       "      <th>5</th>\n",
       "      <td>Schaffhausen</td>\n",
       "      <td>2000</td>\n",
       "      <td>2040</td>\n",
       "      <td>2081</td>\n",
       "      <td>2122</td>\n",
       "      <td>2165</td>\n",
       "      <td>2208</td>\n",
       "      <td>2252</td>\n",
       "      <td>2297</td>\n",
       "      <td>2343</td>\n",
       "      <td>2390</td>\n",
       "    </tr>\n",
       "    <tr>\n",
       "      <th>6</th>\n",
       "      <td>Waadt</td>\n",
       "      <td>1500</td>\n",
       "      <td>1530</td>\n",
       "      <td>1561</td>\n",
       "      <td>1592</td>\n",
       "      <td>1624</td>\n",
       "      <td>1656</td>\n",
       "      <td>1689</td>\n",
       "      <td>1723</td>\n",
       "      <td>1757</td>\n",
       "      <td>1793</td>\n",
       "    </tr>\n",
       "  </tbody>\n",
       "</table>\n",
       "</div>"
      ],
      "text/plain": [
       "         Kanton  2021  2022  2023  2024  2025  2026  2027  2028  2029  2030\n",
       "0   Basel-Stadt  5000  5100  5202  5306  5412  5520  5631  5743  5858  5975\n",
       "1        Wallis  2000  2040  2081  2122  2165  2208  2252  2297  2343  2390\n",
       "2        Tessin  2000  2040  2081  2122  2165  2208  2252  2297  2343  2390\n",
       "3          Genf  2000  2040  2081  2122  2165  2208  2252  2297  2343  2390\n",
       "4       Thurgau  3000  3060  3121  3184  3247  3312  3378  3446  3515  3585\n",
       "5  Schaffhausen  2000  2040  2081  2122  2165  2208  2252  2297  2343  2390\n",
       "6         Waadt  1500  1530  1561  1592  1624  1656  1689  1723  1757  1793"
      ]
     },
     "execution_count": 675,
     "metadata": {},
     "output_type": "execute_result"
    }
   ],
   "source": [
    "df_subventionen = pd.read_csv(\"Subventionen_Trend.csv\")\n",
    "df_subventionen"
   ]
  },
  {
   "cell_type": "code",
   "execution_count": 676,
   "id": "3f07ce14",
   "metadata": {},
   "outputs": [
    {
     "data": {
      "image/png": "[encoded data removed]",
      "text/plain": [
       "<Figure size 432x288 with 1 Axes>"
      ]
     },
     "metadata": {},
     "output_type": "display_data"
    }
   ],
   "source": [
    "hist = df_subventionen[\"2021\"].hist(bins=20, label=\"2021\")\n",
    "hist = df_subventionen[\"2030\"].hist(bins=20, label=\"2030\", color=\"orange\")\n",
    "hist = plt.title(\"Subventionen\")\n",
    "hist = plt.ylabel(\"Häufigkeit\")\n",
    "hist = plt.xlabel(\"CHF\")\n",
    "hist = plt.legend()"
   ]
  },
  {
   "cell_type": "code",
   "execution_count": 677,
   "id": "265f1aec",
   "metadata": {},
   "outputs": [],
   "source": [
    "mit_cov_subventionen = 0.1"
   ]
  },
  {
   "cell_type": "markdown",
   "id": "1e24cd97",
   "metadata": {},
   "source": [
    "#### 2.5.2 Wahrscheinlichkeitsverteilung 2021"
   ]
  },
  {
   "cell_type": "code",
   "execution_count": 678,
   "id": "ee1f962b",
   "metadata": {},
   "outputs": [
    {
     "data": {
      "image/png": "[encoded data removed]",
      "text/plain": [
       "<Figure size 1080x360 with 1 Axes>"
      ]
     },
     "metadata": {},
     "output_type": "display_data"
    }
   ],
   "source": [
    "mu_subventionen_2021 = np.mean(df_subventionen[\"2021\"])\n",
    "stab_subventionen_2021 = mu_subventionen_2021 * mit_cov_subventionen\n",
    "\n",
    "sim_subventionen_2021  = np.random.normal(mu_subventionen_2021, stab_subventionen_2021, 1_000_000)\n",
    "df_sim_subventionen_2021 = pd.DataFrame(sim_subventionen_2021)\n",
    "plot_distr(df_sim_subventionen_2021, sim_subventionen_2021)"
   ]
  },
  {
   "cell_type": "markdown",
   "id": "14c16570",
   "metadata": {},
   "source": [
    "#### 2.5.2 Wahrscheinlichkeitsverteilung 2030"
   ]
  },
  {
   "cell_type": "code",
   "execution_count": 679,
   "id": "ead32723",
   "metadata": {},
   "outputs": [
    {
     "data": {
      "image/png": "[encoded data removed]",
      "text/plain": [
       "<Figure size 1080x360 with 1 Axes>"
      ]
     },
     "metadata": {},
     "output_type": "display_data"
    }
   ],
   "source": [
    "mu_subventionen_2030 = np.mean(df_subventionen[\"2030\"])\n",
    "stab_subventionen_2030 = mu_subventionen_2030 * mit_cov_subventionen\n",
    "\n",
    "sim_subventionen_2030  = np.random.normal(mu_subventionen_2030, stab_subventionen_2030, 1_000_000)\n",
    "df_sim_subventionen_2030 = pd.DataFrame(sim_subventionen_2030)\n",
    "plot_distr(df_sim_subventionen_2030, sim_subventionen_2030)"
   ]
  },
  {
   "cell_type": "markdown",
   "id": "ffe17885",
   "metadata": {},
   "source": [
    "### 3.1 Delta Kaufpreis (Händler)"
   ]
  },
  {
   "cell_type": "code",
   "execution_count": null,
   "id": "e0bc73ba",
   "metadata": {},
   "outputs": [],
   "source": []
  },
  {
   "cell_type": "markdown",
   "id": "781b99b8",
   "metadata": {},
   "source": [
    "### 3.2 Delta Kilometerpreis"
   ]
  },
  {
   "cell_type": "markdown",
   "id": "995bf8c8",
   "metadata": {},
   "source": [
    "Verifox: Durchschnittlicher Verbrauch pro 100km im Jahr 2020 liegt bei 15KWH\n",
    "\n",
    "Statista: Durchschnittlicher Verbrauch pro 100km im Jahr 2020 liegt bei 5.7 Liter"
   ]
  },
  {
   "cell_type": "code",
   "execution_count": 680,
   "id": "83f4bae4",
   "metadata": {},
   "outputs": [
    {
     "name": "stdout",
     "output_type": "stream",
     "text": [
      "Preis pro KWH:   CHF 3.657\n",
      "Preis pro Liter: CHF 8.151\n",
      "0.04494\n"
     ]
    }
   ],
   "source": [
    "verbrauch_kwh = 15\n",
    "kosten_kwh = df_antriebkosten[\"KWH\"][10]\n",
    "preis_kwh = verbrauch_kwh * kosten_kwh\n",
    "\n",
    "verbrauch_bleifrei = 5.7\n",
    "kosten_bleifrei = df_antriebkosten[\"Bleifrei(95)\"][10]\n",
    "preis_bleifrei = verbrauch_bleifrei * kosten_bleifrei\n",
    "\n",
    "print(\"Preis pro KWH:   CHF {}\\nPreis pro Liter: CHF {}\".format(preis_kwh, preis_bleifrei))\n",
    "\n",
    "delta_km_preis = (preis_bleifrei - preis_kwh) / 100\n",
    "\n",
    "print(delta_km_preis)"
   ]
  },
  {
   "cell_type": "markdown",
   "id": "8e945fca",
   "metadata": {},
   "source": [
    "### 4. Kaufbereitschaft\n",
    "In diesem Abschnitt definieren wir, wann die Kaufbereitschaft der Kunden für ein EV Fahrzeug steigt.\n",
    "\n",
    "\n",
    "- Reichweite wird immer grösser\n",
    "- Benzin / Diesel wird immer teurer\n",
    "    - Steuern auf Benzin\n",
    "    - Kilometerpreis\n",
    "- Kaufpreis wird immer billiger\n",
    "- Subventionen auf Kauf"
   ]
  },
  {
   "cell_type": "code",
   "execution_count": null,
   "id": "93b0a2ae",
   "metadata": {},
   "outputs": [],
   "source": []
  }
 ],
 "metadata": {
  "kernelspec": {
   "display_name": "Python 3",
   "language": "python",
   "name": "python3"
  },
  "language_info": {
   "codemirror_mode": {
    "name": "ipython",
    "version": 3
   },
   "file_extension": ".py",
   "mimetype": "text/x-python",
   "name": "python",
   "nbconvert_exporter": "python",
   "pygments_lexer": "ipython3",
   "version": "3.8.8"
  }
 },
 "nbformat": 4,
 "nbformat_minor": 5
}
